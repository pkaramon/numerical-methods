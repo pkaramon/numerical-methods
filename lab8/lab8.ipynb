{
 "cells": [
  {
   "cell_type": "code",
   "execution_count": 105,
   "metadata": {},
   "outputs": [],
   "source": [
    "import numpy as np\n",
    "import scipy as sp\n",
    "import pandas as pd\n",
    "import time"
   ]
  },
  {
   "cell_type": "code",
   "execution_count": 92,
   "metadata": {},
   "outputs": [],
   "source": [
    "EPS = 1e-10\n",
    "\n",
    "def generate_matrix(n):\n",
    "    np.random.seed(0)\n",
    "    return np.random.rand(n, n) * 2\n",
    "\n",
    "\n",
    "def generate_vector(n):\n",
    "    np.random.seed(0)\n",
    "    return np.random.rand(n) * 2"
   ]
  },
  {
   "cell_type": "code",
   "execution_count": 93,
   "metadata": {},
   "outputs": [],
   "source": [
    "def solve_lu(A, b):\n",
    "    lu, piv = sp.linalg.lu_factor(A)\n",
    "    return sp.linalg.lu_solve((lu, piv), b)\n",
    "\n",
    "\n",
    "def test_lu(n):\n",
    "    A = generate_matrix(n)\n",
    "    b = generate_vector(n)\n",
    "\n",
    "    start = time.time()\n",
    "    x = solve_lu(A, b)\n",
    "    elapsed = time.time() - start\n",
    "\n",
    "    if not np.allclose(A @ x, b, atol=EPS):\n",
    "        raise ValueError(\"LU decomposition failed\")\n",
    "    \n",
    "    return elapsed"
   ]
  },
  {
   "cell_type": "code",
   "execution_count": 97,
   "metadata": {},
   "outputs": [],
   "source": [
    "def solve_inv(A, b):\n",
    "    inv = np.linalg.inv(A)\n",
    "    return inv, inv @ b\n",
    "\n",
    "\n",
    "def test_inv(n):\n",
    "    A = generate_matrix(n)\n",
    "    b = generate_vector(n)\n",
    "\n",
    "    start = time.time()\n",
    "    inv, x = solve_inv(A, b)\n",
    "    elapsed = time.time() - start\n",
    "\n",
    "    if not np.allclose(A@inv, np.eye(n), atol=EPS):\n",
    "        raise ValueError(\"A*inv(A) != I\")\n",
    "\n",
    "    if not np.allclose(inv@A, np.eye(n), atol=EPS):\n",
    "        raise ValueError(\"inv(A)*A != I\")\n",
    "\n",
    "    if not np.allclose(A @ x, b, atol=EPS):\n",
    "        raise ValueError(\"Inverse failed\")\n",
    "\n",
    "    return elapsed"
   ]
  },
  {
   "cell_type": "code",
   "execution_count": 98,
   "metadata": {},
   "outputs": [],
   "source": [
    "def solve_qr(A, b):\n",
    "    Q, R = np.linalg.qr(A)\n",
    "    return np.linalg.solve(R, Q.T @ b)\n",
    "\n",
    "def test_qr(n):\n",
    "    A = generate_matrix(n)\n",
    "    b = generate_vector(n)\n",
    "\n",
    "    start = time.time()\n",
    "    x = solve_qr(A, b)\n",
    "    elapsed = time.time() - start\n",
    "\n",
    "    if not np.allclose(A @ x, b, atol=EPS):\n",
    "        raise ValueError(\"QR decomposition failed\")\n",
    "\n",
    "    return elapsed"
   ]
  },
  {
   "cell_type": "code",
   "execution_count": 119,
   "metadata": {},
   "outputs": [
    {
     "data": {
      "text/html": [
       "<div>\n",
       "<style scoped>\n",
       "    .dataframe tbody tr th:only-of-type {\n",
       "        vertical-align: middle;\n",
       "    }\n",
       "\n",
       "    .dataframe tbody tr th {\n",
       "        vertical-align: top;\n",
       "    }\n",
       "\n",
       "    .dataframe thead th {\n",
       "        text-align: right;\n",
       "    }\n",
       "</style>\n",
       "<table border=\"1\" class=\"dataframe\">\n",
       "  <thead>\n",
       "    <tr style=\"text-align: right;\">\n",
       "      <th></th>\n",
       "      <th>n</th>\n",
       "      <th>LU</th>\n",
       "      <th>INV</th>\n",
       "      <th>QR</th>\n",
       "    </tr>\n",
       "  </thead>\n",
       "  <tbody>\n",
       "    <tr>\n",
       "      <th>0</th>\n",
       "      <td>10</td>\n",
       "      <td>0.000038</td>\n",
       "      <td>0.000391</td>\n",
       "      <td>0.000110</td>\n",
       "    </tr>\n",
       "    <tr>\n",
       "      <th>1</th>\n",
       "      <td>25</td>\n",
       "      <td>0.000035</td>\n",
       "      <td>0.000344</td>\n",
       "      <td>0.001293</td>\n",
       "    </tr>\n",
       "    <tr>\n",
       "      <th>2</th>\n",
       "      <td>50</td>\n",
       "      <td>0.000058</td>\n",
       "      <td>0.000445</td>\n",
       "      <td>0.001367</td>\n",
       "    </tr>\n",
       "    <tr>\n",
       "      <th>3</th>\n",
       "      <td>75</td>\n",
       "      <td>0.000093</td>\n",
       "      <td>0.000988</td>\n",
       "      <td>0.002448</td>\n",
       "    </tr>\n",
       "    <tr>\n",
       "      <th>4</th>\n",
       "      <td>100</td>\n",
       "      <td>0.007530</td>\n",
       "      <td>0.003505</td>\n",
       "      <td>0.003298</td>\n",
       "    </tr>\n",
       "  </tbody>\n",
       "</table>\n",
       "</div>"
      ],
      "text/plain": [
       "     n        LU       INV        QR\n",
       "0   10  0.000038  0.000391  0.000110\n",
       "1   25  0.000035  0.000344  0.001293\n",
       "2   50  0.000058  0.000445  0.001367\n",
       "3   75  0.000093  0.000988  0.002448\n",
       "4  100  0.007530  0.003505  0.003298"
      ]
     },
     "execution_count": 119,
     "metadata": {},
     "output_type": "execute_result"
    }
   ],
   "source": [
    "runs = 500\n",
    "\n",
    "df = pd.DataFrame()\n",
    "df['n'] = [10, 25, 50, 75, 100]\n",
    "df['LU'] = [np.mean([test_lu(n) for _ in range(runs)]) for n in df['n']]\n",
    "df['INV'] = [np.mean([test_inv(n) for _ in range(runs)]) for n in df['n']]\n",
    "df['QR'] = [np.mean([test_qr(n) for _ in range(runs)]) for n in df['n']]\n",
    "\n",
    "df"
   ]
  },
  {
   "cell_type": "code",
   "execution_count": 113,
   "metadata": {},
   "outputs": [],
   "source": [
    "import seaborn as sns"
   ]
  },
  {
   "cell_type": "code",
   "execution_count": 120,
   "metadata": {},
   "outputs": [
    {
     "data": {
      "text/plain": [
       "<Axes: xlabel='n', ylabel='LU'>"
      ]
     },
     "execution_count": 120,
     "metadata": {},
     "output_type": "execute_result"
    },
    {
     "data": {
      "image/png": "[encoded data removed]",
      "text/plain": [
       "<Figure size 640x480 with 1 Axes>"
      ]
     },
     "metadata": {},
     "output_type": "display_data"
    }
   ],
   "source": [
    "sns.lineplot(data=df, x='n', y='LU', label='LU')\n",
    "sns.lineplot(data=df, x='n', y='INV', label='INV')\n",
    "sns.lineplot(data=df, x='n', y='QR', label='QR')\n",
    "\n"
   ]
  },
  {
   "cell_type": "code",
   "execution_count": null,
   "metadata": {},
   "outputs": [],
   "source": []
  }
 ],
 "metadata": {
  "kernelspec": {
   "display_name": "Python 3",
   "language": "python",
   "name": "python3"
  },
  "language_info": {
   "codemirror_mode": {
    "name": "ipython",
    "version": 3
   },
   "file_extension": ".py",
   "mimetype": "text/x-python",
   "name": "python",
   "nbconvert_exporter": "python",
   "pygments_lexer": "ipython3",
   "version": "3.10.13"
  }
 },
 "nbformat": 4,
 "nbformat_minor": 2
}
